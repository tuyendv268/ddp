{
 "cells": [
  {
   "attachments": {},
   "cell_type": "markdown",
   "metadata": {},
   "source": [
    "### statis"
   ]
  },
  {
   "cell_type": "code",
   "execution_count": null,
   "metadata": {},
   "outputs": [],
   "source": [
    "import pandas as pd\n"
   ]
  },
  {
   "attachments": {},
   "cell_type": "markdown",
   "metadata": {},
   "source": [
    "### vi_squad"
   ]
  },
  {
   "cell_type": "code",
   "execution_count": 34,
   "metadata": {},
   "outputs": [
    {
     "name": "stdout",
     "output_type": "stream",
     "text": [
      "/home/tuyendv/Desktop/reranker\n"
     ]
    }
   ],
   "source": [
    "%cd /home/tuyendv/Desktop/reranker\n",
    "import json\n",
    "import pandas as pd\n",
    "from bm25 import BM25\n",
    "from underthesea import word_tokenize\n",
    "from tqdm import tqdm\n",
    "from utils import save_data"
   ]
  },
  {
   "cell_type": "code",
   "execution_count": 39,
   "metadata": {},
   "outputs": [
    {
     "data": {
      "text/html": [
       "<div>\n",
       "<style scoped>\n",
       "    .dataframe tbody tr th:only-of-type {\n",
       "        vertical-align: middle;\n",
       "    }\n",
       "\n",
       "    .dataframe tbody tr th {\n",
       "        vertical-align: top;\n",
       "    }\n",
       "\n",
       "    .dataframe thead th {\n",
       "        text-align: right;\n",
       "    }\n",
       "</style>\n",
       "<table border=\"1\" class=\"dataframe\">\n",
       "  <thead>\n",
       "    <tr style=\"text-align: right;\">\n",
       "      <th></th>\n",
       "      <th>passage</th>\n",
       "      <th>query</th>\n",
       "      <th>answer</th>\n",
       "    </tr>\n",
       "  </thead>\n",
       "  <tbody>\n",
       "    <tr>\n",
       "      <th>0</th>\n",
       "      <td>Beyoncé Giselle Knowles-Carter (/ b i gì ɒ n s...</td>\n",
       "      <td>Beyonce bắt đầu nổi tiếng từ khi nào?</td>\n",
       "      <td>Vào cuối những năm 1990</td>\n",
       "    </tr>\n",
       "    <tr>\n",
       "      <th>1</th>\n",
       "      <td>Beyoncé Giselle Knowles-Carter (/ b i gì ɒ n s...</td>\n",
       "      <td>Beyonce đã cạnh tranh trong lĩnh vực nào khi c...</td>\n",
       "      <td>Hát và nhảy múa</td>\n",
       "    </tr>\n",
       "    <tr>\n",
       "      <th>2</th>\n",
       "      <td>Beyoncé Giselle Knowles-Carter (/ b i gì ɒ n s...</td>\n",
       "      <td>Beyonce rời Destiny's Child và trở thành ca sĩ...</td>\n",
       "      <td>2003</td>\n",
       "    </tr>\n",
       "    <tr>\n",
       "      <th>3</th>\n",
       "      <td>Beyoncé Giselle Knowles-Carter (/ b i gì ɒ n s...</td>\n",
       "      <td>Beyonce lớn lên ở thành phố và tiểu bang nào?</td>\n",
       "      <td>Houston Khách sạn</td>\n",
       "    </tr>\n",
       "    <tr>\n",
       "      <th>4</th>\n",
       "      <td>Beyoncé Giselle Knowles-Carter (/ b i gì ɒ n s...</td>\n",
       "      <td>Beyonce nổi tiếng trong thập kỷ nào?</td>\n",
       "      <td>Cuối những năm 1990</td>\n",
       "    </tr>\n",
       "  </tbody>\n",
       "</table>\n",
       "</div>"
      ],
      "text/plain": [
       "                                             passage  \\\n",
       "0  Beyoncé Giselle Knowles-Carter (/ b i gì ɒ n s...   \n",
       "1  Beyoncé Giselle Knowles-Carter (/ b i gì ɒ n s...   \n",
       "2  Beyoncé Giselle Knowles-Carter (/ b i gì ɒ n s...   \n",
       "3  Beyoncé Giselle Knowles-Carter (/ b i gì ɒ n s...   \n",
       "4  Beyoncé Giselle Knowles-Carter (/ b i gì ɒ n s...   \n",
       "\n",
       "                                               query                   answer  \n",
       "0              Beyonce bắt đầu nổi tiếng từ khi nào?  Vào cuối những năm 1990  \n",
       "1  Beyonce đã cạnh tranh trong lĩnh vực nào khi c...          Hát và nhảy múa  \n",
       "2  Beyonce rời Destiny's Child và trở thành ca sĩ...                     2003  \n",
       "3     Beyonce lớn lên ở thành phố và tiểu bang nào?         Houston Khách sạn  \n",
       "4               Beyonce nổi tiếng trong thập kỷ nào?      Cuối những năm 1990  "
      ]
     },
     "execution_count": 39,
     "metadata": {},
     "output_type": "execute_result"
    }
   ],
   "source": [
    "path = \"/home/tuyendv/Desktop/reranker/data/vinai/train-v2.0-translated.json\"\n",
    "data = json.load(open(path, \"r\", encoding=\"utf-8\"))\n",
    "\n",
    "df = pd.DataFrame(data, columns=[\"passage\", \"query\", \"answer\"])\n",
    "df.head()"
   ]
  },
  {
   "cell_type": "code",
   "execution_count": 40,
   "metadata": {},
   "outputs": [
    {
     "data": {
      "text/html": [
       "<div>\n",
       "<style scoped>\n",
       "    .dataframe tbody tr th:only-of-type {\n",
       "        vertical-align: middle;\n",
       "    }\n",
       "\n",
       "    .dataframe tbody tr th {\n",
       "        vertical-align: top;\n",
       "    }\n",
       "\n",
       "    .dataframe thead th {\n",
       "        text-align: right;\n",
       "    }\n",
       "</style>\n",
       "<table border=\"1\" class=\"dataframe\">\n",
       "  <thead>\n",
       "    <tr style=\"text-align: right;\">\n",
       "      <th></th>\n",
       "      <th>id</th>\n",
       "      <th>passage_text</th>\n",
       "    </tr>\n",
       "  </thead>\n",
       "  <tbody>\n",
       "    <tr>\n",
       "      <th>0</th>\n",
       "      <td>000000</td>\n",
       "      <td>Beyoncé Giselle Knowles-Carter (/ b i gì ɒ n s...</td>\n",
       "    </tr>\n",
       "    <tr>\n",
       "      <th>1</th>\n",
       "      <td>000001</td>\n",
       "      <td>Sau sự tan rã của Destiny's Child vào tháng 6 ...</td>\n",
       "    </tr>\n",
       "    <tr>\n",
       "      <th>2</th>\n",
       "      <td>000002</td>\n",
       "      <td>Là một \"nữ quyền hiện đại ngày nay\", Beyoncé t...</td>\n",
       "    </tr>\n",
       "    <tr>\n",
       "      <th>3</th>\n",
       "      <td>000003</td>\n",
       "      <td>Beyoncé Giselle Knowles được sinh ra ở Houston...</td>\n",
       "    </tr>\n",
       "    <tr>\n",
       "      <th>4</th>\n",
       "      <td>000004</td>\n",
       "      <td>Beyoncé theo học tại trường tiểu học St. Mary ...</td>\n",
       "    </tr>\n",
       "  </tbody>\n",
       "</table>\n",
       "</div>"
      ],
      "text/plain": [
       "       id                                       passage_text\n",
       "0  000000  Beyoncé Giselle Knowles-Carter (/ b i gì ɒ n s...\n",
       "1  000001  Sau sự tan rã của Destiny's Child vào tháng 6 ...\n",
       "2  000002  Là một \"nữ quyền hiện đại ngày nay\", Beyoncé t...\n",
       "3  000003  Beyoncé Giselle Knowles được sinh ra ở Houston...\n",
       "4  000004  Beyoncé theo học tại trường tiểu học St. Mary ..."
      ]
     },
     "execution_count": 40,
     "metadata": {},
     "output_type": "execute_result"
    }
   ],
   "source": [
    "passages = []\n",
    "for i, doc in enumerate(df.passage.unique().tolist()):\n",
    "    _id = str(i).zfill(6)\n",
    "    _text = doc\n",
    "    \n",
    "    passages.append([_id, _text])\n",
    "    \n",
    "passages = pd.DataFrame(passages, columns=[\"id\", \"passage_text\"])\n",
    "passages.head()"
   ]
  },
  {
   "cell_type": "code",
   "execution_count": 41,
   "metadata": {},
   "outputs": [],
   "source": [
    "bm25 = BM25()\n",
    "bm25.train(passages)"
   ]
  },
  {
   "cell_type": "code",
   "execution_count": 42,
   "metadata": {},
   "outputs": [
    {
     "name": "stderr",
     "output_type": "stream",
     "text": [
      "100%|██████████| 130319/130319 [52:16<00:00, 41.55it/s] \n"
     ]
    }
   ],
   "source": [
    "data = []\n",
    "for index in tqdm(df.index):\n",
    "    query = df[\"query\"][index]\n",
    "    positive_passage = df[\"passage\"][index]\n",
    "    all_passage = bm25.ranking(positive_passage, top_k=8)[\"retrieval_text\"].tolist()\n",
    "    \n",
    "    passages = []\n",
    "    mark = 0\n",
    "    for passage in all_passage:\n",
    "        if positive_passage == passage:\n",
    "            sample = {\n",
    "                \"is_selected\":1,\n",
    "                \"passage_text\":passage\n",
    "            }\n",
    "            mark = 1\n",
    "        else:\n",
    "            sample = {\n",
    "                \"is_selected\":0,\n",
    "                \"passage_text\":passage\n",
    "            }\n",
    "        passages.append(sample)\n",
    "        \n",
    "    if mark == 0:\n",
    "        sample = {\n",
    "            \"is_selected\":1,\n",
    "            \"passage_text\":positive_passage\n",
    "        }\n",
    "        passages.append(sample)\n",
    "    \n",
    "    data.append(\n",
    "        {\n",
    "            \"query\":query,\n",
    "            \"passages\":passages\n",
    "        }\n",
    "    )"
   ]
  },
  {
   "cell_type": "code",
   "execution_count": 44,
   "metadata": {},
   "outputs": [],
   "source": [
    "path = \"/home/tuyendv/Desktop/reranker/data/squad-en/vinai-train-v2.0-translated.json\"\n",
    "save_data(path, data=data)"
   ]
  },
  {
   "attachments": {},
   "cell_type": "markdown",
   "metadata": {},
   "source": [
    "### vi_data"
   ]
  },
  {
   "cell_type": "code",
   "execution_count": null,
   "metadata": {},
   "outputs": [],
   "source": [
    "import pandas as pd\n",
    "import json"
   ]
  },
  {
   "cell_type": "code",
   "execution_count": null,
   "metadata": {},
   "outputs": [],
   "source": [
    "path = \"/home/tuyendv/Desktop/reranker/data/raw/vi_data.json\"\n",
    "df = pd.read_json(path)\n",
    "df.head()"
   ]
  },
  {
   "cell_type": "code",
   "execution_count": null,
   "metadata": {},
   "outputs": [],
   "source": [
    "data = []\n",
    "for index in df.index:\n",
    "    query = df[\"question\"][index]\n",
    "    positive = df[\"positive_sample\"][index]\n",
    "    negative_samples = df[\"negative_samples\"][index]\n",
    "    \n",
    "    passages = []\n",
    "    \n",
    "    passages.append(\n",
    "        {\n",
    "            \"passage_text\":positive,\n",
    "            \"is_selected\":1\n",
    "        }\n",
    "    )\n",
    "    \n",
    "    for negative in negative_samples:\n",
    "        passages.append(\n",
    "            {\n",
    "                \"passage_text\":negative,\n",
    "                \"is_selected\":0\n",
    "            }\n",
    "        )\n",
    "        \n",
    "    data.append(\n",
    "        {\n",
    "            \"query\":query,\n",
    "            \"passages\":passages\n",
    "        }\n",
    "    )"
   ]
  },
  {
   "cell_type": "code",
   "execution_count": null,
   "metadata": {},
   "outputs": [],
   "source": [
    "def save_data(path, data):\n",
    "    with open(path, \"w\", encoding=\"utf-8\") as f:\n",
    "        for sample in data:\n",
    "            json_obj = json.dumps(sample, ensure_ascii=False)\n",
    "            f.write(json_obj+\"\\n\")\n",
    "\n",
    "path=\"/home/tuyendv/Desktop/reranker/data/ir/vi_data.json\"\n",
    "save_data(path, data)"
   ]
  },
  {
   "attachments": {},
   "cell_type": "markdown",
   "metadata": {},
   "source": [
    "### v1"
   ]
  },
  {
   "cell_type": "code",
   "execution_count": 1,
   "metadata": {},
   "outputs": [],
   "source": [
    "import json"
   ]
  },
  {
   "cell_type": "code",
   "execution_count": 5,
   "metadata": {},
   "outputs": [],
   "source": [
    "path = \"/home/tuyendv/Desktop/reranker/data/ir/train/ms-macro-train_v1.1.json\"\n",
    "\n",
    "data = []\n",
    "with open(path, \"r\", encoding=\"utf-8\") as f:\n",
    "    for line in f.readlines():\n",
    "        line = json.loads(line.strip())\n",
    "        passages = [\n",
    "            {\n",
    "                \"passage_text\":i[\"passage_text\"],\n",
    "                \"is_selected\":i[\"is_selected\"]\n",
    "                } for i in line[\"passages\"]\n",
    "            ]\n",
    "        data.append(\n",
    "            {\n",
    "                \"query\":line[\"query\"],\n",
    "                \"passages\":passages\n",
    "            }\n",
    "        )"
   ]
  },
  {
   "cell_type": "code",
   "execution_count": 4,
   "metadata": {},
   "outputs": [],
   "source": [
    "def save_data(path, data):\n",
    "    with open(path, \"w\", encoding=\"utf-8\") as f:\n",
    "        for sample in data:\n",
    "            json_obj = json.dumps(sample, ensure_ascii=False)\n",
    "            f.write(json_obj+\"\\n\")\n",
    "\n",
    "path = \"/home/tuyendv/Desktop/reranker/data/ir/train/ms-macro-train_v1.1.json\"\n",
    "save_data(path, data[0:30000])"
   ]
  },
  {
   "attachments": {},
   "cell_type": "markdown",
   "metadata": {},
   "source": [
    "### temp"
   ]
  },
  {
   "cell_type": "code",
   "execution_count": 1,
   "metadata": {},
   "outputs": [
    {
     "name": "stdout",
     "output_type": "stream",
     "text": [
      "/home/tuyendv/Desktop/reranker\n"
     ]
    }
   ],
   "source": [
    "%cd /home/tuyendv/Desktop/reranker/\n",
    "import os \n",
    "from glob import glob\n",
    "import json\n",
    "import pandas as pd\n",
    "from utils import load_data"
   ]
  },
  {
   "cell_type": "code",
   "execution_count": 2,
   "metadata": {},
   "outputs": [
    {
     "data": {
      "text/plain": [
       "163681"
      ]
     },
     "execution_count": 2,
     "metadata": {},
     "output_type": "execute_result"
    }
   ],
   "source": [
    "path = \"/home/tuyendv/Desktop/reranker/data/ir/train\"\n",
    "data = load_data(path)\n",
    "data = [json.loads(line) for line in data]\n",
    "len(data)"
   ]
  },
  {
   "cell_type": "code",
   "execution_count": 3,
   "metadata": {},
   "outputs": [
    {
     "data": {
      "text/html": [
       "<div>\n",
       "<style scoped>\n",
       "    .dataframe tbody tr th:only-of-type {\n",
       "        vertical-align: middle;\n",
       "    }\n",
       "\n",
       "    .dataframe tbody tr th {\n",
       "        vertical-align: top;\n",
       "    }\n",
       "\n",
       "    .dataframe thead th {\n",
       "        text-align: right;\n",
       "    }\n",
       "</style>\n",
       "<table border=\"1\" class=\"dataframe\">\n",
       "  <thead>\n",
       "    <tr style=\"text-align: right;\">\n",
       "      <th></th>\n",
       "      <th>query</th>\n",
       "      <th>passages</th>\n",
       "    </tr>\n",
       "  </thead>\n",
       "  <tbody>\n",
       "    <tr>\n",
       "      <th>0</th>\n",
       "      <td>does human hair stop squirrels</td>\n",
       "      <td>[{'passage_text': 'We have been feeding our ba...</td>\n",
       "    </tr>\n",
       "    <tr>\n",
       "      <th>1</th>\n",
       "      <td>what class are spiders in</td>\n",
       "      <td>[{'passage_text': 'SUBPHYLUM CHELICERATA, CLAS...</td>\n",
       "    </tr>\n",
       "    <tr>\n",
       "      <th>2</th>\n",
       "      <td>where is the amur leopard found</td>\n",
       "      <td>[{'passage_text': 'Amur leopards have the nort...</td>\n",
       "    </tr>\n",
       "    <tr>\n",
       "      <th>3</th>\n",
       "      <td>is oxyfluorfen safe on cotton</td>\n",
       "      <td>[{'passage_text': 'This product is a Schedule ...</td>\n",
       "    </tr>\n",
       "    <tr>\n",
       "      <th>4</th>\n",
       "      <td>what types of bacteria are found in the mouth</td>\n",
       "      <td>[{'passage_text': 'Unfortunately, some bacteri...</td>\n",
       "    </tr>\n",
       "  </tbody>\n",
       "</table>\n",
       "</div>"
      ],
      "text/plain": [
       "                                           query  \\\n",
       "0                 does human hair stop squirrels   \n",
       "1                      what class are spiders in   \n",
       "2                where is the amur leopard found   \n",
       "3                  is oxyfluorfen safe on cotton   \n",
       "4  what types of bacteria are found in the mouth   \n",
       "\n",
       "                                            passages  \n",
       "0  [{'passage_text': 'We have been feeding our ba...  \n",
       "1  [{'passage_text': 'SUBPHYLUM CHELICERATA, CLAS...  \n",
       "2  [{'passage_text': 'Amur leopards have the nort...  \n",
       "3  [{'passage_text': 'This product is a Schedule ...  \n",
       "4  [{'passage_text': 'Unfortunately, some bacteri...  "
      ]
     },
     "execution_count": 3,
     "metadata": {},
     "output_type": "execute_result"
    }
   ],
   "source": [
    "data= pd.DataFrame(data)\n",
    "data.head()"
   ]
  },
  {
   "cell_type": "code",
   "execution_count": 4,
   "metadata": {},
   "outputs": [],
   "source": [
    "def get_length(query, passages):\n",
    "    query_length = len(query.split())\n",
    "    \n",
    "    lengths = []\n",
    "    for pa in passages:\n",
    "        tmp = pa[\"passage_text\"]\n",
    "        \n",
    "        lengths.append(len(tmp.split()) + query_length)\n",
    "        \n",
    "    return lengths\n",
    "\n",
    "data[\"length\"] = data.apply(lambda x: get_length(x[\"query\"], x[\"passages\"]), axis=1)"
   ]
  },
  {
   "cell_type": "code",
   "execution_count": 5,
   "metadata": {},
   "outputs": [
    {
     "data": {
      "text/plain": [
       "<matplotlib.axes._subplots.AxesSubplot at 0x7f130ff39a00>"
      ]
     },
     "execution_count": 5,
     "metadata": {},
     "output_type": "execute_result"
    },
    {
     "data": {
      "image/png": "[encoded data removed]",
      "text/plain": [
       "<Figure size 640x480 with 1 Axes>"
      ]
     },
     "metadata": {},
     "output_type": "display_data"
    }
   ],
   "source": [
    "lengths = [i for j in data.length.tolist() for i in j]\n",
    "pd.DataFrame(lengths, columns=[\"lengths\"]).lengths.hist(bins=100)"
   ]
  }
 ],
 "metadata": {
  "kernelspec": {
   "display_name": "dl",
   "language": "python",
   "name": "python3"
  },
  "language_info": {
   "codemirror_mode": {
    "name": "ipython",
    "version": 3
   },
   "file_extension": ".py",
   "mimetype": "text/x-python",
   "name": "python",
   "nbconvert_exporter": "python",
   "pygments_lexer": "ipython3",
   "version": "3.8.16"
  },
  "orig_nbformat": 4
 },
 "nbformat": 4,
 "nbformat_minor": 2
}
